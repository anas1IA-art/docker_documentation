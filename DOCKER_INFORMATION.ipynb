{
  "nbformat": 4,
  "nbformat_minor": 0,
  "metadata": {
    "colab": {
      "provenance": [],
      "authorship_tag": "ABX9TyN+/RyeC1SMi0ooxTn8HvEe",
      "include_colab_link": true
    },
    "kernelspec": {
      "name": "python3",
      "display_name": "Python 3"
    },
    "language_info": {
      "name": "python"
    }
  },
  "cells": [
    {
      "cell_type": "markdown",
      "metadata": {
        "id": "view-in-github",
        "colab_type": "text"
      },
      "source": [
        "<a href=\"https://colab.research.google.com/github/anas1IA-art/docker_documentation/blob/main/DOCKER_INFORMATION.ipynb\" target=\"_parent\"><img src=\"https://colab.research.google.com/assets/colab-badge.svg\" alt=\"Open In Colab\"/></a>"
      ]
    },
    {
      "cell_type": "markdown",
      "source": [
        "# Docker Overview\n",
        "\n",
        "**Docker** allows you to run applications in isolated environments, known as containers, which operate within your preferred Linux distribution.\n",
        "\n",
        "- **Containers** are similar to virtual machines, but they are more lightweight.\n",
        "- You can create an image where you pre-install software, make configurations, and run it on your local machine or the cloud (e.g., Kubernetes).\n",
        "- Docker ensures that the same image can run across multiple environments like:\n",
        "  - Development\n",
        "  - Testing\n",
        "  - Acceptance\n",
        "  - Production\n",
        "\n",
        "## Benefits of Docker:\n",
        "- Docker enables parallel environments, such as testing and performance analysis.\n",
        "- Supports progressive deployment with feature flags or ring-based deployments.\n",
        "- **Consistency**: The same Docker image runs in different environments, reducing discrepancies.\n",
        "- **Efficiency**: Docker caches components that don't change, making updates faster.\n",
        "\n",
        "## How Docker Works:\n",
        "1. Install Docker.\n",
        "2. Define your environment settings using a **Dockerfile**.\n",
        "3. Create a Docker image.\n",
        "4. Run the image as a container locally or on any server."
      ],
      "metadata": {
        "id": "kU7vCXMFUHYW"
      }
    },
    {
      "cell_type": "markdown",
      "source": [
        "```Dockerfile\n",
        "# Use the latest Python image as the base image\n",
        "# Note: While using the latest version is convenient, specifying a particular version is recommended to avoid future compatibility issues\n",
        "FROM python:latest\n",
        "\n",
        "# Set the working directory to /app\n",
        "# This directory will contain all files and folders for the project within the container\n",
        "WORKDIR /app\n",
        "\n",
        "# Copy the requirements.txt file to the working directory\n",
        "# This file lists all dependencies needed for the project\n",
        "COPY ./requirements.txt /app\n",
        "\n",
        "# Install the dependencies listed in requirements.txt\n",
        "# Using --no-cache-dir to prevent caching of the dependencies and --upgrade to ensure the latest versions are installed\n",
        "RUN pip install --no-cache-dir --upgrade -r requirements.txt\n",
        "\n",
        "# Copy the rest of the project files to the working directory\n",
        "# This includes all scripts and files needed for the project\n",
        "COPY . /app\n",
        "\n",
        "# Start the server using uvicorn\n",
        "# The server will run on port 80 and will be accessible from all network interfaces\n",
        "CMD [\"uvicorn\", \"main:app\", \"--host\", \"0.0.0.0\", \"--port\", \"80\"]\n"
      ],
      "metadata": {
        "id": "fTekXz8_Y52L"
      }
    },
    {
      "cell_type": "markdown",
      "source": [
        "You can instruct Docker to start creating an image based on the Dockerfile using the following command:\n",
        "\n",
        "**docker build -t nameofchoice**\n",
        "\n",
        "To run the image locally on your machine, use:\n",
        "\n",
        "**docker run -p 8080:80 nameofchoice**\n",
        "\n",
        "This command creates a local container to run the image on your machine. It maps port 8080 on your host to port 80 inside the container. This allows you to access the service running in the container via port 8080 on your machine, which corresponds to port 80 within the container.\n",
        "\n",
        "To run the container in detached mode, so you can continue using your terminal for other commands, add the `-d` option:\n",
        "\n",
        "**docker run -d -p 8080:80 nameofchoice**\n",
        "\n",
        "In Docker Desktop, you will see the `name of choice` container running.\n"
      ],
      "metadata": {
        "id": "oSZExQegSx5Q"
      }
    },
    {
      "cell_type": "markdown",
      "source": [
        "**docker-compose up --build** :  **docker-compose up** (update automatically does the syncing and automate  resyarting of the server )  **--build** : build the container for the first time\n",
        "\n",
        "the final thing is **how to deal with chnages in data** ( because cuurently , you 've currently ,you've gone only restart the server one unchanged the python file )  ( watchfiles package : because what uvicorn is relying on  just add (**--reload-include ***) to the command ( **command: uvicorn main:app --host 0.0.0.0 --port 80 --reload**)->(**command: uvicorn main:app --host 0.0.0.0 --port 80 --reload --reload-include**)\n",
        "\n"
      ],
      "metadata": {
        "id": "wxsj-nRcFu9-"
      }
    },
    {
      "cell_type": "markdown",
      "source": [
        "```yaml\n",
        "services:\n",
        "  app:\n",
        "    build: . # Specifies the folder to build the Docker container. This step is not strictly necessary, but it is useful if you want Docker Compose to build the image before starting the container.\n",
        "    container_name: channel # The name of the container, making it easier to find in Docker Desktop.\n",
        "    command: uvicorn main:app --host 0.0.0.0 --port 80 --reload --reload-include * # Custom command to start the server. The --reload option enables automatic restarts when code changes are detected.\n",
        "    ports:\n",
        "      - 8080:80 # Maps port 8080 on the host machine to port 80 inside the container. This exposes the container’s port 80 to the outside world on port 8080.\n",
        "    volumes:\n",
        "      - .:/app # Maps the current folder (.) to the /app folder inside the container. This setup ensures that changes to files in the current folder are automatically synced to the container’s /app folder. Due to the --reload option in the command, the server will restart automatically when changes are detected.\n",
        "\n",
        "# With this configuration, you can run your API in a Docker container. Any code changes made in the local folder will be reflected in the container, and the server will restart automatically due to the volume syncing and reload options.\n"
      ],
      "metadata": {
        "id": "GM8dbYGfaCIq"
      }
    },
    {
      "cell_type": "markdown",
      "source": [
        "## basic and advance  Commands\n",
        "\n",
        "\n",
        " ### Docker Commands\n",
        "\n",
        "1. Build an image:\n",
        "   ```bash\n",
        "   docker build -t name_of_choice .\n",
        "\n",
        "2. Run a container:\n",
        "   ```bash\n",
        "  docker run -p 8080:80 name_of_choice\n",
        "\n",
        "3. List running containers:\n",
        "   ```bash\n",
        "   docker ps\n",
        "\n",
        "4. List all containers (including stopped ones):\n",
        "  ```bash\n",
        "  docker ps -a\n",
        "\n",
        "5. Stop a running container:\n",
        "   ```bash\n",
        "   docker stop container_id_or_name\n",
        "\n",
        "6. Remove a container:\n",
        "    ```bash\n",
        "    docker rm container_id_or_name\n",
        "\n",
        "7. Remove an image:\n",
        "  ```bash\n",
        "  docker rmi image_name_or_id\n",
        "\n",
        "8. Pull an image from Docker Hub:\n",
        "  ```bash\n",
        "  docker pull image_name\n",
        "\n",
        "9. Push an image to Docker Hub:\n",
        "  ```bash\n",
        "  docker push image_name\n",
        "\n",
        "10. View container logs:\n",
        "  ```bash\n",
        "  docker logs container_id_or_name\n",
        "\n",
        "11. Inspect a container:\n",
        "  ```bash\n",
        "  docker inspect container_id_or_name\n",
        "\n",
        "12. View resource usage statistics:\n",
        "   ```bash\n",
        "   docker stats\n",
        "\n",
        "13. Create a new image from a container's changes:\n",
        "   ```bash\n",
        "    docker commit container_id_or_name new_image_name\n",
        "\n",
        "14. Tag an image:\n",
        "  ```bash\n",
        "  docker tag source_image[:tag] target_image[:tag]\n",
        "\n",
        "15. Save an image to a tar archive:\n",
        "    ```bash\n",
        "    docker save image_name > filename.tar\n",
        "\n",
        "16. Load an image from a tar archive:\n",
        "   ```bash\n",
        "   docker load < filename.tar\n",
        "\n",
        "17. View the history of an image:\n",
        "  ```bash\n",
        "  docker history image_name\n",
        "\n",
        "18. Clean up unused resources:\n",
        "   ```bash\n",
        "   docker system prune\n",
        "\n",
        "\n"
      ],
      "metadata": {
        "id": "_4e6GqM2bi4x"
      }
    },
    {
      "cell_type": "markdown",
      "source": [
        "## summary\n",
        "\n"
      ],
      "metadata": {
        "id": "QXpLv1CGJmkx"
      }
    },
    {
      "cell_type": "markdown",
      "source": [
        "docker allows you to create nice felexibele completely separete virtual environement that we can run locally ,that's exactly the same as when we run locally , that is exactly the same as when we run  it in the cloud and we can change the code , we can change  we can change the data and it's goiing to sync automaticlally with the server   that is runinig inside isolated environent  ,it 's going restart automatically whenever that's needed ."
      ],
      "metadata": {
        "id": "WBelqv5QJtjQ"
      }
    }
  ]
}